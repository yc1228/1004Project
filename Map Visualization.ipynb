{
 "cells": [
  {
   "cell_type": "code",
   "execution_count": null,
   "metadata": {
    "collapsed": false
   },
   "outputs": [
    {
     "name": "stderr",
     "output_type": "stream",
     "text": [
      "/Users/leah/anaconda/lib/python3.5/site-packages/IPython/core/interactiveshell.py:2717: DtypeWarning: Columns (17) have mixed types. Specify dtype option on import or set low_memory=False.\n",
      "  interactivity=interactivity, compiler=compiler, result=result)\n",
      "/Users/leah/anaconda/lib/python3.5/site-packages/IPython/core/interactiveshell.py:2881: FutureWarning: \n",
      "mpl_style had been deprecated and will be removed in a future version.\n",
      "Use `matplotlib.pyplot.style.use` instead.\n",
      "\n",
      "  exec(code_obj, self.user_global_ns, self.user_ns)\n"
     ]
    }
   ],
   "source": [
    "from pandas import DataFrame\n",
    "import pandas as pd\n",
    "import matplotlib  \n",
    "import matplotlib.pyplot as plt  \n",
    "%matplotlib inline \n",
    "crime_map=pd.read_csv('/Users/leah/Desktop/1004/uuu/crime.csv')\n",
    "df=crime_map[['Latitude','Longitude']]\n",
    "pd.options.display.mpl_style = 'default' \n",
    "new_style = {'grid': False}  \n",
    "matplotlib.rc('axes', **new_style)  \n",
    "from matplotlib import rcParams  \n",
    "rcParams['figure.figsize'] = (17.5, 17) \n",
    "rcParams['figure.dpi'] = 250\n",
    "\n",
    "P=df.plot(kind='scatter',x='Longitude',y='Latitude',color='white',xlim=(-74.06,-73.77),ylim=(40.61, 40.91),s=.5,alpha=.5)\n",
    "P.set_axis_bgcolor('black')"
   ]
  },
  {
   "cell_type": "code",
   "execution_count": null,
   "metadata": {
    "collapsed": true
   },
   "outputs": [],
   "source": []
  }
 ],
 "metadata": {
  "anaconda-cloud": {},
  "kernelspec": {
   "display_name": "Python [Root]",
   "language": "python",
   "name": "Python [Root]"
  },
  "language_info": {
   "codemirror_mode": {
    "name": "ipython",
    "version": 3
   },
   "file_extension": ".py",
   "mimetype": "text/x-python",
   "name": "python",
   "nbconvert_exporter": "python",
   "pygments_lexer": "ipython3",
   "version": "3.5.2"
  }
 },
 "nbformat": 4,
 "nbformat_minor": 0
}
