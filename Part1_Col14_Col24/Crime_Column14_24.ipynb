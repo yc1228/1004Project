{
 "cells": [
  {
   "cell_type": "code",
   "execution_count": 32,
   "metadata": {
    "collapsed": false
   },
   "outputs": [
    {
     "data": {
      "text/html": [
       "<div>\n",
       "<table border=\"1\" class=\"dataframe\">\n",
       "  <thead>\n",
       "    <tr style=\"text-align: right;\">\n",
       "      <th></th>\n",
       "      <th>Location</th>\n",
       "      <th>First_type</th>\n",
       "      <th>Second_type</th>\n",
       "      <th>Data_property</th>\n",
       "    </tr>\n",
       "  </thead>\n",
       "  <tbody>\n",
       "    <tr>\n",
       "      <th>0</th>\n",
       "      <td>BRONX</td>\n",
       "      <td>String</td>\n",
       "      <td>Location</td>\n",
       "      <td>Valid</td>\n",
       "    </tr>\n",
       "    <tr>\n",
       "      <th>1</th>\n",
       "      <td>QUEENS</td>\n",
       "      <td>String</td>\n",
       "      <td>Location</td>\n",
       "      <td>Valid</td>\n",
       "    </tr>\n",
       "    <tr>\n",
       "      <th>2</th>\n",
       "      <td>MANHATTAN</td>\n",
       "      <td>String</td>\n",
       "      <td>Location</td>\n",
       "      <td>Valid</td>\n",
       "    </tr>\n",
       "    <tr>\n",
       "      <th>3</th>\n",
       "      <td>QUEENS</td>\n",
       "      <td>String</td>\n",
       "      <td>Location</td>\n",
       "      <td>Valid</td>\n",
       "    </tr>\n",
       "    <tr>\n",
       "      <th>4</th>\n",
       "      <td>MANHATTAN</td>\n",
       "      <td>String</td>\n",
       "      <td>Location</td>\n",
       "      <td>Valid</td>\n",
       "    </tr>\n",
       "  </tbody>\n",
       "</table>\n",
       "</div>"
      ],
      "text/plain": [
       "    Location First_type Second_type Data_property\n",
       "0      BRONX     String    Location         Valid\n",
       "1     QUEENS     String    Location         Valid\n",
       "2  MANHATTAN     String    Location         Valid\n",
       "3     QUEENS     String    Location         Valid\n",
       "4  MANHATTAN     String    Location         Valid"
      ]
     },
     "execution_count": 32,
     "metadata": {},
     "output_type": "execute_result"
    }
   ],
   "source": [
    "## Column BORO_NM\n",
    "from pandas import DataFrame\n",
    "%matplotlib inline \n",
    "import matplotlib.pyplot as plt\n",
    "df_Boro = DataFrame.from_csv(\"/Users/leah/Desktop/script_14/Col_Boro_merge.out\",header=None,index_col=False,sep=\"\\t\")\n",
    "df_Boro.columns = [\"Location\",\"First_type\",\"Second_type\",\"Data_property\"]\n",
    "df_Boro=df_Boro.fillna(\"No Value\")\n",
    "df_Boro.head()"
   ]
  },
  {
   "cell_type": "code",
   "execution_count": 26,
   "metadata": {
    "collapsed": false
   },
   "outputs": [
    {
     "data": {
      "text/plain": [
       "(5101231, 4)"
      ]
     },
     "execution_count": 26,
     "metadata": {},
     "output_type": "execute_result"
    }
   ],
   "source": [
    "df_Boro.shape"
   ]
  },
  {
   "cell_type": "code",
   "execution_count": 27,
   "metadata": {
    "collapsed": false
   },
   "outputs": [
    {
     "data": {
      "text/html": [
       "<div>\n",
       "<table border=\"1\" class=\"dataframe\">\n",
       "  <thead>\n",
       "    <tr style=\"text-align: right;\">\n",
       "      <th></th>\n",
       "      <th>First_type</th>\n",
       "      <th>Second_type</th>\n",
       "      <th>Data_property</th>\n",
       "    </tr>\n",
       "    <tr>\n",
       "      <th>Location</th>\n",
       "      <th></th>\n",
       "      <th></th>\n",
       "      <th></th>\n",
       "    </tr>\n",
       "  </thead>\n",
       "  <tbody>\n",
       "    <tr>\n",
       "      <th>BRONX</th>\n",
       "      <td>1103514</td>\n",
       "      <td>1103514</td>\n",
       "      <td>1103514</td>\n",
       "    </tr>\n",
       "    <tr>\n",
       "      <th>BROOKLYN</th>\n",
       "      <td>1526213</td>\n",
       "      <td>1526213</td>\n",
       "      <td>1526213</td>\n",
       "    </tr>\n",
       "    <tr>\n",
       "      <th>MANHATTAN</th>\n",
       "      <td>1216249</td>\n",
       "      <td>1216249</td>\n",
       "      <td>1216249</td>\n",
       "    </tr>\n",
       "    <tr>\n",
       "      <th>No Value</th>\n",
       "      <td>463</td>\n",
       "      <td>463</td>\n",
       "      <td>463</td>\n",
       "    </tr>\n",
       "    <tr>\n",
       "      <th>QUEENS</th>\n",
       "      <td>1011002</td>\n",
       "      <td>1011002</td>\n",
       "      <td>1011002</td>\n",
       "    </tr>\n",
       "    <tr>\n",
       "      <th>STATEN ISLAND</th>\n",
       "      <td>243790</td>\n",
       "      <td>243790</td>\n",
       "      <td>243790</td>\n",
       "    </tr>\n",
       "  </tbody>\n",
       "</table>\n",
       "</div>"
      ],
      "text/plain": [
       "               First_type  Second_type  Data_property\n",
       "Location                                             \n",
       "BRONX             1103514      1103514        1103514\n",
       "BROOKLYN          1526213      1526213        1526213\n",
       "MANHATTAN         1216249      1216249        1216249\n",
       "No Value              463          463            463\n",
       "QUEENS            1011002      1011002        1011002\n",
       "STATEN ISLAND      243790       243790         243790"
      ]
     },
     "execution_count": 27,
     "metadata": {},
     "output_type": "execute_result"
    }
   ],
   "source": [
    "df_Boro.groupby('Location').count()"
   ]
  },
  {
   "cell_type": "code",
   "execution_count": 28,
   "metadata": {
    "collapsed": false
   },
   "outputs": [
    {
     "data": {
      "text/html": [
       "<div>\n",
       "<table border=\"1\" class=\"dataframe\">\n",
       "  <thead>\n",
       "    <tr style=\"text-align: right;\">\n",
       "      <th></th>\n",
       "      <th>Location</th>\n",
       "      <th>First_type</th>\n",
       "      <th>Second_type</th>\n",
       "    </tr>\n",
       "    <tr>\n",
       "      <th>Data_property</th>\n",
       "      <th></th>\n",
       "      <th></th>\n",
       "      <th></th>\n",
       "    </tr>\n",
       "  </thead>\n",
       "  <tbody>\n",
       "    <tr>\n",
       "      <th>Null</th>\n",
       "      <td>463</td>\n",
       "      <td>463</td>\n",
       "      <td>463</td>\n",
       "    </tr>\n",
       "    <tr>\n",
       "      <th>Valid</th>\n",
       "      <td>5100768</td>\n",
       "      <td>5100768</td>\n",
       "      <td>5100768</td>\n",
       "    </tr>\n",
       "  </tbody>\n",
       "</table>\n",
       "</div>"
      ],
      "text/plain": [
       "               Location  First_type  Second_type\n",
       "Data_property                                   \n",
       "Null                463         463          463\n",
       "Valid           5100768     5100768      5100768"
      ]
     },
     "execution_count": 28,
     "metadata": {},
     "output_type": "execute_result"
    }
   ],
   "source": [
    "df_Boro.groupby('Data_property').count()"
   ]
  },
  {
   "cell_type": "code",
   "execution_count": 217,
   "metadata": {
    "collapsed": false
   },
   "outputs": [],
   "source": [
    "location_value=[]\n",
    "list=df_Boro.groupby('Location').count().values.astype(str).tolist()\n",
    "for i in list:\n",
    "    location_value.append(i[0])\n",
    "type_value=[]\n",
    "list_2=df_Boro.groupby('Data_property').count().values.astype(str).tolist()\n",
    "for j in list_2:\n",
    "    type_value.append(j[0]) "
   ]
  },
  {
   "cell_type": "code",
   "execution_count": 219,
   "metadata": {
    "collapsed": false
   },
   "outputs": [
    {
     "data": {
      "text/plain": [
       "['1103514', '1526213', '1216249', '463', '1011002', '243790']"
      ]
     },
     "execution_count": 219,
     "metadata": {},
     "output_type": "execute_result"
    }
   ],
   "source": [
    "location_value"
   ]
  },
  {
   "cell_type": "code",
   "execution_count": 221,
   "metadata": {
    "collapsed": false
   },
   "outputs": [
    {
     "data": {
      "image/png": "[encoded data removed]",
      "text/plain": [
       "<matplotlib.figure.Figure at 0x1daabb9b0>"
      ]
     },
     "metadata": {},
     "output_type": "display_data"
    }
   ],
   "source": [
    "location_value=[]\n",
    "list=df_Boro.groupby('Location').count().values.astype(str).tolist()\n",
    "for i in list:\n",
    "    location_value.append(i[0])\n",
    "labels = df_Boro.groupby('Location').count().index\n",
    "sizes = location_value\n",
    "#count_location = df_Boro.groupby('Location').count().take([0], axis=1)\n",
    "colors = ['skyblue', 'orange','pink','red','mediumorchid','lightyellow']\n",
    "plt.pie(sizes, labels=labels, colors=colors)\n",
    "plt.title(\"Pie chart of Borough Count\")\n",
    "plt.axis('equal')\n",
    "plt.show()"
   ]
  },
  {
   "cell_type": "code",
   "execution_count": 33,
   "metadata": {
    "collapsed": false
   },
   "outputs": [
    {
     "data": {
      "text/html": [
       "<div>\n",
       "<table border=\"1\" class=\"dataframe\">\n",
       "  <thead>\n",
       "    <tr style=\"text-align: right;\">\n",
       "      <th></th>\n",
       "      <th>Location</th>\n",
       "      <th>First_type</th>\n",
       "      <th>Second_type</th>\n",
       "      <th>Data_property</th>\n",
       "    </tr>\n",
       "  </thead>\n",
       "  <tbody>\n",
       "    <tr>\n",
       "      <th>0</th>\n",
       "      <td>44</td>\n",
       "      <td>String</td>\n",
       "      <td>Location</td>\n",
       "      <td>Valid</td>\n",
       "    </tr>\n",
       "    <tr>\n",
       "      <th>1</th>\n",
       "      <td>103</td>\n",
       "      <td>String</td>\n",
       "      <td>Location</td>\n",
       "      <td>Valid</td>\n",
       "    </tr>\n",
       "    <tr>\n",
       "      <th>2</th>\n",
       "      <td>28</td>\n",
       "      <td>String</td>\n",
       "      <td>Location</td>\n",
       "      <td>Valid</td>\n",
       "    </tr>\n",
       "    <tr>\n",
       "      <th>3</th>\n",
       "      <td>105</td>\n",
       "      <td>String</td>\n",
       "      <td>Location</td>\n",
       "      <td>Valid</td>\n",
       "    </tr>\n",
       "    <tr>\n",
       "      <th>4</th>\n",
       "      <td>13</td>\n",
       "      <td>String</td>\n",
       "      <td>Location</td>\n",
       "      <td>Valid</td>\n",
       "    </tr>\n",
       "  </tbody>\n",
       "</table>\n",
       "</div>"
      ],
      "text/plain": [
       "  Location First_type Second_type Data_property\n",
       "0       44     String    Location         Valid\n",
       "1      103     String    Location         Valid\n",
       "2       28     String    Location         Valid\n",
       "3      105     String    Location         Valid\n",
       "4       13     String    Location         Valid"
      ]
     },
     "execution_count": 33,
     "metadata": {},
     "output_type": "execute_result"
    }
   ],
   "source": [
    "##Column ADDR_PCT_CD\n",
    "df_Precinct = DataFrame.from_csv(\"/Users/leah/Desktop/script_14/Col_Precinct_merge.out\",header=None,index_col=False,sep=\"\\t\")\n",
    "df_Precinct.columns = [\"Location\",\"First_type\",\"Second_type\",\"Data_property\"]\n",
    "df_Precinct=df_Precinct.fillna(\"No Value\")\n",
    "df_Precinct.head()"
   ]
  },
  {
   "cell_type": "code",
   "execution_count": 204,
   "metadata": {
    "collapsed": false
   },
   "outputs": [
    {
     "data": {
      "text/plain": [
       "(5101231, 4)"
      ]
     },
     "execution_count": 204,
     "metadata": {},
     "output_type": "execute_result"
    }
   ],
   "source": [
    "df_Precinct.shape"
   ]
  },
  {
   "cell_type": "code",
   "execution_count": 82,
   "metadata": {
    "collapsed": false
   },
   "outputs": [
    {
     "data": {
      "text/html": [
       "<div>\n",
       "<table border=\"1\" class=\"dataframe\">\n",
       "  <thead>\n",
       "    <tr style=\"text-align: right;\">\n",
       "      <th></th>\n",
       "      <th>First_type</th>\n",
       "      <th>Second_type</th>\n",
       "      <th>Data_property</th>\n",
       "    </tr>\n",
       "    <tr>\n",
       "      <th>Location</th>\n",
       "      <th></th>\n",
       "      <th></th>\n",
       "      <th></th>\n",
       "    </tr>\n",
       "  </thead>\n",
       "  <tbody>\n",
       "    <tr>\n",
       "      <th>1.0</th>\n",
       "      <td>61537</td>\n",
       "      <td>61537</td>\n",
       "      <td>61537</td>\n",
       "    </tr>\n",
       "    <tr>\n",
       "      <th>5.0</th>\n",
       "      <td>44917</td>\n",
       "      <td>44917</td>\n",
       "      <td>44917</td>\n",
       "    </tr>\n",
       "    <tr>\n",
       "      <th>6.0</th>\n",
       "      <td>54905</td>\n",
       "      <td>54905</td>\n",
       "      <td>54905</td>\n",
       "    </tr>\n",
       "    <tr>\n",
       "      <th>7.0</th>\n",
       "      <td>40886</td>\n",
       "      <td>40886</td>\n",
       "      <td>40886</td>\n",
       "    </tr>\n",
       "    <tr>\n",
       "      <th>9.0</th>\n",
       "      <td>62165</td>\n",
       "      <td>62165</td>\n",
       "      <td>62165</td>\n",
       "    </tr>\n",
       "  </tbody>\n",
       "</table>\n",
       "</div>"
      ],
      "text/plain": [
       "          First_type  Second_type  Data_property\n",
       "Location                                        \n",
       "1.0            61537        61537          61537\n",
       "5.0            44917        44917          44917\n",
       "6.0            54905        54905          54905\n",
       "7.0            40886        40886          40886\n",
       "9.0            62165        62165          62165"
      ]
     },
     "execution_count": 82,
     "metadata": {},
     "output_type": "execute_result"
    }
   ],
   "source": [
    "df_Precinct.groupby('Location').count().head()"
   ]
  },
  {
   "cell_type": "code",
   "execution_count": 114,
   "metadata": {
    "collapsed": false
   },
   "outputs": [
    {
     "data": {
      "text/html": [
       "<div>\n",
       "<table border=\"1\" class=\"dataframe\">\n",
       "  <thead>\n",
       "    <tr style=\"text-align: right;\">\n",
       "      <th></th>\n",
       "      <th>Location</th>\n",
       "      <th>First_type</th>\n",
       "      <th>Second_type</th>\n",
       "    </tr>\n",
       "    <tr>\n",
       "      <th>Data_property</th>\n",
       "      <th></th>\n",
       "      <th></th>\n",
       "      <th></th>\n",
       "    </tr>\n",
       "  </thead>\n",
       "  <tbody>\n",
       "    <tr>\n",
       "      <th>Null</th>\n",
       "      <td>390</td>\n",
       "      <td>390</td>\n",
       "      <td>390</td>\n",
       "    </tr>\n",
       "    <tr>\n",
       "      <th>Valid</th>\n",
       "      <td>5100841</td>\n",
       "      <td>5100841</td>\n",
       "      <td>5100841</td>\n",
       "    </tr>\n",
       "  </tbody>\n",
       "</table>\n",
       "</div>"
      ],
      "text/plain": [
       "               Location  First_type  Second_type\n",
       "Data_property                                   \n",
       "Null                390         390          390\n",
       "Valid           5100841     5100841      5100841"
      ]
     },
     "execution_count": 114,
     "metadata": {},
     "output_type": "execute_result"
    }
   ],
   "source": [
    "df_Precinct.groupby('Data_property').count()"
   ]
  },
  {
   "cell_type": "code",
   "execution_count": 205,
   "metadata": {
    "collapsed": false
   },
   "outputs": [
    {
     "data": {
      "text/html": [
       "<div>\n",
       "<table border=\"1\" class=\"dataframe\">\n",
       "  <thead>\n",
       "    <tr style=\"text-align: right;\">\n",
       "      <th></th>\n",
       "      <th>Location</th>\n",
       "      <th>First_type</th>\n",
       "      <th>Second_type</th>\n",
       "    </tr>\n",
       "    <tr>\n",
       "      <th>Data_property</th>\n",
       "      <th></th>\n",
       "      <th></th>\n",
       "      <th></th>\n",
       "    </tr>\n",
       "  </thead>\n",
       "  <tbody>\n",
       "    <tr>\n",
       "      <th>Null</th>\n",
       "      <td>390</td>\n",
       "      <td>390</td>\n",
       "      <td>390</td>\n",
       "    </tr>\n",
       "    <tr>\n",
       "      <th>Valid</th>\n",
       "      <td>5100841</td>\n",
       "      <td>5100841</td>\n",
       "      <td>5100841</td>\n",
       "    </tr>\n",
       "  </tbody>\n",
       "</table>\n",
       "</div>"
      ],
      "text/plain": [
       "               Location  First_type  Second_type\n",
       "Data_property                                   \n",
       "Null                390         390          390\n",
       "Valid           5100841     5100841      5100841"
      ]
     },
     "execution_count": 205,
     "metadata": {},
     "output_type": "execute_result"
    }
   ],
   "source": [
    "df_Precinct.groupby('Data_property').count()"
   ]
  },
  {
   "cell_type": "code",
   "execution_count": 229,
   "metadata": {
    "collapsed": false
   },
   "outputs": [
    {
     "name": "stderr",
     "output_type": "stream",
     "text": [
      "/Users/leah/anaconda/lib/python3.5/site-packages/ipykernel/__main__.py:1: FutureWarning: sort(columns=....) is deprecated, use sort_values(by=.....)\n",
      "  if __name__ == '__main__':\n"
     ]
    },
    {
     "data": {
      "text/plain": [
       "<matplotlib.text.Text at 0x1dbce7f60>"
      ]
     },
     "execution_count": 229,
     "metadata": {},
     "output_type": "execute_result"
    },
    {
     "data": {
      "image/png": "[encoded data removed]",
      "text/plain": [
       "<matplotlib.figure.Figure at 0x1dafc4a58>"
      ]
     },
     "metadata": {},
     "output_type": "display_data"
    }
   ],
   "source": [
    "plot_Precinct=df_Precinct.groupby('Location').count().sort(\"First_type\",ascending=False)\n",
    "ax=plot_Precinct.take([0], axis=1)[0:19].plot(kind='bar',legend=False,title='Top 20 Frequency of Precinct Type',color=\"skyblue\")\n",
    "ax.set_xlabel(\"Precinct Type\")\n",
    "ax.set_ylabel(\"Frequency\")"
   ]
  },
  {
   "cell_type": "code",
   "execution_count": 193,
   "metadata": {
    "collapsed": false
   },
   "outputs": [
    {
     "data": {
      "text/html": [
       "<div>\n",
       "<table border=\"1\" class=\"dataframe\">\n",
       "  <thead>\n",
       "    <tr style=\"text-align: right;\">\n",
       "      <th></th>\n",
       "      <th>Location</th>\n",
       "      <th>First_type</th>\n",
       "      <th>Second_type</th>\n",
       "      <th>Data_property</th>\n",
       "    </tr>\n",
       "  </thead>\n",
       "  <tbody>\n",
       "    <tr>\n",
       "      <th>0</th>\n",
       "      <td>INSIDE</td>\n",
       "      <td>Text</td>\n",
       "      <td>Location</td>\n",
       "      <td>Valid</td>\n",
       "    </tr>\n",
       "    <tr>\n",
       "      <th>1</th>\n",
       "      <td>OUTSIDE</td>\n",
       "      <td>Text</td>\n",
       "      <td>Location</td>\n",
       "      <td>Valid</td>\n",
       "    </tr>\n",
       "    <tr>\n",
       "      <th>2</th>\n",
       "      <td>No Value</td>\n",
       "      <td>Text</td>\n",
       "      <td>Location</td>\n",
       "      <td>Null</td>\n",
       "    </tr>\n",
       "    <tr>\n",
       "      <th>3</th>\n",
       "      <td>INSIDE</td>\n",
       "      <td>Text</td>\n",
       "      <td>Location</td>\n",
       "      <td>Valid</td>\n",
       "    </tr>\n",
       "    <tr>\n",
       "      <th>4</th>\n",
       "      <td>FRONT OF</td>\n",
       "      <td>Text</td>\n",
       "      <td>Location</td>\n",
       "      <td>Valid</td>\n",
       "    </tr>\n",
       "  </tbody>\n",
       "</table>\n",
       "</div>"
      ],
      "text/plain": [
       "   Location First_type Second_type Data_property\n",
       "0    INSIDE       Text    Location         Valid\n",
       "1   OUTSIDE       Text    Location         Valid\n",
       "2  No Value       Text    Location          Null\n",
       "3    INSIDE       Text    Location         Valid\n",
       "4  FRONT OF       Text    Location         Valid"
      ]
     },
     "execution_count": 193,
     "metadata": {},
     "output_type": "execute_result"
    }
   ],
   "source": [
    "## Column LOC_OF_OCCUR_DESC\n",
    "df_Loc = DataFrame.from_csv(\"/Users/leah/Desktop/script_14/Col_Loc_merge.out\",header=None,index_col=False,sep=\"\\t\")\n",
    "df_Loc.columns = [\"Location\",\"First_type\",\"Second_type\",\"Data_property\"]\n",
    "df_Loc=df_Loc.fillna(\"No Value\")\n",
    "df_Loc.Location[df_Loc.Location == ' '] =\"No Value\" \n",
    "df_Loc.head()"
   ]
  },
  {
   "cell_type": "code",
   "execution_count": 194,
   "metadata": {
    "collapsed": false
   },
   "outputs": [
    {
     "data": {
      "text/html": [
       "<div>\n",
       "<table border=\"1\" class=\"dataframe\">\n",
       "  <thead>\n",
       "    <tr style=\"text-align: right;\">\n",
       "      <th></th>\n",
       "      <th>First_type</th>\n",
       "      <th>Second_type</th>\n",
       "      <th>Data_property</th>\n",
       "    </tr>\n",
       "    <tr>\n",
       "      <th>Location</th>\n",
       "      <th></th>\n",
       "      <th></th>\n",
       "      <th></th>\n",
       "    </tr>\n",
       "  </thead>\n",
       "  <tbody>\n",
       "    <tr>\n",
       "      <th>FRONT OF</th>\n",
       "      <td>1189787</td>\n",
       "      <td>1189787</td>\n",
       "      <td>1189787</td>\n",
       "    </tr>\n",
       "    <tr>\n",
       "      <th>INSIDE</th>\n",
       "      <td>2527543</td>\n",
       "      <td>2527543</td>\n",
       "      <td>2527543</td>\n",
       "    </tr>\n",
       "    <tr>\n",
       "      <th>No Value</th>\n",
       "      <td>1127341</td>\n",
       "      <td>1127341</td>\n",
       "      <td>1127341</td>\n",
       "    </tr>\n",
       "    <tr>\n",
       "      <th>OPPOSITE OF</th>\n",
       "      <td>140606</td>\n",
       "      <td>140606</td>\n",
       "      <td>140606</td>\n",
       "    </tr>\n",
       "    <tr>\n",
       "      <th>OUTSIDE</th>\n",
       "      <td>2765</td>\n",
       "      <td>2765</td>\n",
       "      <td>2765</td>\n",
       "    </tr>\n",
       "    <tr>\n",
       "      <th>REAR OF</th>\n",
       "      <td>113189</td>\n",
       "      <td>113189</td>\n",
       "      <td>113189</td>\n",
       "    </tr>\n",
       "  </tbody>\n",
       "</table>\n",
       "</div>"
      ],
      "text/plain": [
       "             First_type  Second_type  Data_property\n",
       "Location                                           \n",
       "FRONT OF        1189787      1189787        1189787\n",
       "INSIDE          2527543      2527543        2527543\n",
       "No Value        1127341      1127341        1127341\n",
       "OPPOSITE OF      140606       140606         140606\n",
       "OUTSIDE            2765         2765           2765\n",
       "REAR OF          113189       113189         113189"
      ]
     },
     "execution_count": 194,
     "metadata": {},
     "output_type": "execute_result"
    }
   ],
   "source": [
    "df_Loc.groupby('Location').count()"
   ]
  },
  {
   "cell_type": "code",
   "execution_count": 192,
   "metadata": {
    "collapsed": false
   },
   "outputs": [
    {
     "data": {
      "text/html": [
       "<div>\n",
       "<table border=\"1\" class=\"dataframe\">\n",
       "  <thead>\n",
       "    <tr style=\"text-align: right;\">\n",
       "      <th></th>\n",
       "      <th>Location</th>\n",
       "      <th>First_type</th>\n",
       "      <th>Second_type</th>\n",
       "    </tr>\n",
       "    <tr>\n",
       "      <th>Data_property</th>\n",
       "      <th></th>\n",
       "      <th></th>\n",
       "      <th></th>\n",
       "    </tr>\n",
       "  </thead>\n",
       "  <tbody>\n",
       "    <tr>\n",
       "      <th>Null</th>\n",
       "      <td>1127341</td>\n",
       "      <td>1127341</td>\n",
       "      <td>1127341</td>\n",
       "    </tr>\n",
       "    <tr>\n",
       "      <th>Valid</th>\n",
       "      <td>3973890</td>\n",
       "      <td>3973890</td>\n",
       "      <td>3973890</td>\n",
       "    </tr>\n",
       "  </tbody>\n",
       "</table>\n",
       "</div>"
      ],
      "text/plain": [
       "               Location  First_type  Second_type\n",
       "Data_property                                   \n",
       "Null            1127341     1127341      1127341\n",
       "Valid           3973890     3973890      3973890"
      ]
     },
     "execution_count": 192,
     "metadata": {},
     "output_type": "execute_result"
    }
   ],
   "source": [
    "df_Loc.groupby('Data_property').count()"
   ]
  },
  {
   "cell_type": "code",
   "execution_count": 242,
   "metadata": {
    "collapsed": false
   },
   "outputs": [
    {
     "data": {
      "image/png": "[encoded data removed]",
      "text/plain": [
       "<matplotlib.figure.Figure at 0x1dafc4ef0>"
      ]
     },
     "metadata": {},
     "output_type": "display_data"
    }
   ],
   "source": [
    "Loc_value=[]\n",
    "list_Loc=df_Loc.groupby('Location').count().values.astype(str).tolist()\n",
    "for i in list_Loc:\n",
    "    Loc_value.append(i[0])\n",
    "labels = df_Loc.groupby('Location').count().index\n",
    "sizes = Loc_value\n",
    "#count_location = df_Boro.groupby('Location').count().take([0], axis=1)\n",
    "colors = ['lightyellow', 'orange','pink','mediumorchid','red','skyblue']\n",
    "plt.pie(sizes, labels=labels,colors=colors)\n",
    "plt.title(\"Pie chart of Specific Description of Location Count\")\n",
    "plt.axis('equal')\n",
    "plt.show()"
   ]
  },
  {
   "cell_type": "code",
   "execution_count": 137,
   "metadata": {
    "collapsed": false
   },
   "outputs": [
    {
     "data": {
      "text/html": [
       "<div>\n",
       "<table border=\"1\" class=\"dataframe\">\n",
       "  <thead>\n",
       "    <tr style=\"text-align: right;\">\n",
       "      <th></th>\n",
       "      <th>Location</th>\n",
       "      <th>First_type</th>\n",
       "      <th>Second_type</th>\n",
       "      <th>Data_property</th>\n",
       "    </tr>\n",
       "  </thead>\n",
       "  <tbody>\n",
       "    <tr>\n",
       "      <th>0</th>\n",
       "      <td>BAR/NIGHT CLUB</td>\n",
       "      <td>Text</td>\n",
       "      <td>Location</td>\n",
       "      <td>Valid</td>\n",
       "    </tr>\n",
       "    <tr>\n",
       "      <th>1</th>\n",
       "      <td>No Value</td>\n",
       "      <td>Text</td>\n",
       "      <td>Location</td>\n",
       "      <td>Null</td>\n",
       "    </tr>\n",
       "    <tr>\n",
       "      <th>2</th>\n",
       "      <td>OTHER</td>\n",
       "      <td>Text</td>\n",
       "      <td>Location</td>\n",
       "      <td>Valid</td>\n",
       "    </tr>\n",
       "    <tr>\n",
       "      <th>3</th>\n",
       "      <td>RESIDENCE-HOUSE</td>\n",
       "      <td>Text</td>\n",
       "      <td>Location</td>\n",
       "      <td>Valid</td>\n",
       "    </tr>\n",
       "    <tr>\n",
       "      <th>4</th>\n",
       "      <td>OTHER</td>\n",
       "      <td>Text</td>\n",
       "      <td>Location</td>\n",
       "      <td>Valid</td>\n",
       "    </tr>\n",
       "  </tbody>\n",
       "</table>\n",
       "</div>"
      ],
      "text/plain": [
       "          Location First_type Second_type Data_property\n",
       "0   BAR/NIGHT CLUB       Text    Location         Valid\n",
       "1         No Value       Text    Location          Null\n",
       "2            OTHER       Text    Location         Valid\n",
       "3  RESIDENCE-HOUSE       Text    Location         Valid\n",
       "4            OTHER       Text    Location         Valid"
      ]
     },
     "execution_count": 137,
     "metadata": {},
     "output_type": "execute_result"
    }
   ],
   "source": [
    "##Column PREM_TYP_DESC\n",
    "df_Pre = DataFrame.from_csv(\"/Users/leah/Desktop/script_14/Col_Pre_merge.out\",header=None,index_col=False,sep=\"\\t\")\n",
    "df_Pre.columns = [\"Location\",\"First_type\",\"Second_type\",\"Data_property\"]\n",
    "df_Pre=df_Pre.fillna(\"No Value\")\n",
    "#df_Loc.Location[df_Loc.Location == ' '] =\"No Value\" \n",
    "df_Pre.head()"
   ]
  },
  {
   "cell_type": "code",
   "execution_count": 138,
   "metadata": {
    "collapsed": false
   },
   "outputs": [
    {
     "data": {
      "text/plain": [
       "(5101231, 4)"
      ]
     },
     "execution_count": 138,
     "metadata": {},
     "output_type": "execute_result"
    }
   ],
   "source": [
    "df_Pre.shape"
   ]
  },
  {
   "cell_type": "code",
   "execution_count": 239,
   "metadata": {
    "collapsed": false
   },
   "outputs": [
    {
     "data": {
      "text/html": [
       "<div>\n",
       "<table border=\"1\" class=\"dataframe\">\n",
       "  <thead>\n",
       "    <tr style=\"text-align: right;\">\n",
       "      <th></th>\n",
       "      <th>First_type</th>\n",
       "      <th>Second_type</th>\n",
       "      <th>Data_property</th>\n",
       "    </tr>\n",
       "    <tr>\n",
       "      <th>Location</th>\n",
       "      <th></th>\n",
       "      <th></th>\n",
       "      <th></th>\n",
       "    </tr>\n",
       "  </thead>\n",
       "  <tbody>\n",
       "    <tr>\n",
       "      <th>ABANDONED BUILDING</th>\n",
       "      <td>1891</td>\n",
       "      <td>1891</td>\n",
       "      <td>1891</td>\n",
       "    </tr>\n",
       "    <tr>\n",
       "      <th>AIRPORT TERMINAL</th>\n",
       "      <td>14315</td>\n",
       "      <td>14315</td>\n",
       "      <td>14315</td>\n",
       "    </tr>\n",
       "    <tr>\n",
       "      <th>ATM</th>\n",
       "      <td>4267</td>\n",
       "      <td>4267</td>\n",
       "      <td>4267</td>\n",
       "    </tr>\n",
       "    <tr>\n",
       "      <th>BANK</th>\n",
       "      <td>21252</td>\n",
       "      <td>21252</td>\n",
       "      <td>21252</td>\n",
       "    </tr>\n",
       "    <tr>\n",
       "      <th>BAR/NIGHT CLUB</th>\n",
       "      <td>57065</td>\n",
       "      <td>57065</td>\n",
       "      <td>57065</td>\n",
       "    </tr>\n",
       "  </tbody>\n",
       "</table>\n",
       "</div>"
      ],
      "text/plain": [
       "                    First_type  Second_type  Data_property\n",
       "Location                                                  \n",
       "ABANDONED BUILDING        1891         1891           1891\n",
       "AIRPORT TERMINAL         14315        14315          14315\n",
       "ATM                       4267         4267           4267\n",
       "BANK                     21252        21252          21252\n",
       "BAR/NIGHT CLUB           57065        57065          57065"
      ]
     },
     "execution_count": 239,
     "metadata": {},
     "output_type": "execute_result"
    }
   ],
   "source": [
    "df_Pre.groupby('Location').count().head()"
   ]
  },
  {
   "cell_type": "code",
   "execution_count": 142,
   "metadata": {
    "collapsed": false
   },
   "outputs": [
    {
     "data": {
      "text/html": [
       "<div>\n",
       "<table border=\"1\" class=\"dataframe\">\n",
       "  <thead>\n",
       "    <tr style=\"text-align: right;\">\n",
       "      <th></th>\n",
       "      <th>Location</th>\n",
       "      <th>First_type</th>\n",
       "      <th>Second_type</th>\n",
       "    </tr>\n",
       "    <tr>\n",
       "      <th>Data_property</th>\n",
       "      <th></th>\n",
       "      <th></th>\n",
       "      <th></th>\n",
       "    </tr>\n",
       "  </thead>\n",
       "  <tbody>\n",
       "    <tr>\n",
       "      <th>Null</th>\n",
       "      <td>33279</td>\n",
       "      <td>33279</td>\n",
       "      <td>33279</td>\n",
       "    </tr>\n",
       "    <tr>\n",
       "      <th>Valid</th>\n",
       "      <td>5067952</td>\n",
       "      <td>5067952</td>\n",
       "      <td>5067952</td>\n",
       "    </tr>\n",
       "  </tbody>\n",
       "</table>\n",
       "</div>"
      ],
      "text/plain": [
       "               Location  First_type  Second_type\n",
       "Data_property                                   \n",
       "Null              33279       33279        33279\n",
       "Valid           5067952     5067952      5067952"
      ]
     },
     "execution_count": 142,
     "metadata": {},
     "output_type": "execute_result"
    }
   ],
   "source": [
    "df_Pre.groupby('Data_property').count()"
   ]
  },
  {
   "cell_type": "code",
   "execution_count": 243,
   "metadata": {
    "collapsed": false
   },
   "outputs": [
    {
     "name": "stderr",
     "output_type": "stream",
     "text": [
      "/Users/leah/anaconda/lib/python3.5/site-packages/ipykernel/__main__.py:1: FutureWarning: sort(columns=....) is deprecated, use sort_values(by=.....)\n",
      "  if __name__ == '__main__':\n"
     ]
    },
    {
     "data": {
      "text/plain": [
       "<matplotlib.text.Text at 0x1d9f67240>"
      ]
     },
     "execution_count": 243,
     "metadata": {},
     "output_type": "execute_result"
    },
    {
     "data": {
      "image/png": "[encoded data removed]",
      "text/plain": [
       "<matplotlib.figure.Figure at 0x1d9f05a58>"
      ]
     },
     "metadata": {},
     "output_type": "display_data"
    }
   ],
   "source": [
    "plot_Pre=df_Pre.groupby('Location').count().sort(\"First_type\",ascending=False)\n",
    "ax=plot_Pre.take([0], axis=1)[0:19].plot(kind='bar',legend=False,title='Top 20 Frequency of Specific Description of Premises',color=\"gold\")\n",
    "ax.set_xlabel(\"Description of Premises\")\n",
    "ax.set_ylabel(\"Frequency\")"
   ]
  },
  {
   "cell_type": "code",
   "execution_count": 146,
   "metadata": {
    "collapsed": false
   },
   "outputs": [
    {
     "name": "stderr",
     "output_type": "stream",
     "text": [
      "/Users/leah/anaconda/lib/python3.5/site-packages/IPython/core/interactiveshell.py:2821: DtypeWarning: Columns (0) have mixed types. Specify dtype option on import or set low_memory=False.\n",
      "  if self.run_code(code, result):\n"
     ]
    },
    {
     "data": {
      "text/html": [
       "<div>\n",
       "<table border=\"1\" class=\"dataframe\">\n",
       "  <thead>\n",
       "    <tr style=\"text-align: right;\">\n",
       "      <th></th>\n",
       "      <th>Location</th>\n",
       "      <th>First_type</th>\n",
       "      <th>Second_type</th>\n",
       "      <th>Data_property</th>\n",
       "    </tr>\n",
       "  </thead>\n",
       "  <tbody>\n",
       "    <tr>\n",
       "      <th>0</th>\n",
       "      <td>No Value</td>\n",
       "      <td>String</td>\n",
       "      <td>Location</td>\n",
       "      <td>Null</td>\n",
       "    </tr>\n",
       "    <tr>\n",
       "      <th>1</th>\n",
       "      <td>No Value</td>\n",
       "      <td>String</td>\n",
       "      <td>Location</td>\n",
       "      <td>Null</td>\n",
       "    </tr>\n",
       "    <tr>\n",
       "      <th>2</th>\n",
       "      <td>No Value</td>\n",
       "      <td>String</td>\n",
       "      <td>Location</td>\n",
       "      <td>Null</td>\n",
       "    </tr>\n",
       "    <tr>\n",
       "      <th>3</th>\n",
       "      <td>No Value</td>\n",
       "      <td>String</td>\n",
       "      <td>Location</td>\n",
       "      <td>Null</td>\n",
       "    </tr>\n",
       "    <tr>\n",
       "      <th>4</th>\n",
       "      <td>No Value</td>\n",
       "      <td>String</td>\n",
       "      <td>Location</td>\n",
       "      <td>Null</td>\n",
       "    </tr>\n",
       "  </tbody>\n",
       "</table>\n",
       "</div>"
      ],
      "text/plain": [
       "   Location First_type Second_type Data_property\n",
       "0  No Value     String    Location          Null\n",
       "1  No Value     String    Location          Null\n",
       "2  No Value     String    Location          Null\n",
       "3  No Value     String    Location          Null\n",
       "4  No Value     String    Location          Null"
      ]
     },
     "execution_count": 146,
     "metadata": {},
     "output_type": "execute_result"
    }
   ],
   "source": [
    "##Column PARKS_NM\n",
    "df_Park = DataFrame.from_csv(\"/Users/leah/Desktop/script_14/Col_Park_merge.out\",header=None,index_col=False,sep=\"\\t\")\n",
    "df_Park.columns = [\"Location\",\"First_type\",\"Second_type\",\"Data_property\"]\n",
    "df_Park=df_Park.fillna(\"No Value\")\n",
    "#df_Loc.Location[df_Loc.Location == ' '] =\"No Value\" \n",
    "df_Park.head()"
   ]
  },
  {
   "cell_type": "code",
   "execution_count": 147,
   "metadata": {
    "collapsed": false
   },
   "outputs": [
    {
     "data": {
      "text/plain": [
       "(5101231, 4)"
      ]
     },
     "execution_count": 147,
     "metadata": {},
     "output_type": "execute_result"
    }
   ],
   "source": [
    "df_Park.shape"
   ]
  },
  {
   "cell_type": "code",
   "execution_count": 241,
   "metadata": {
    "collapsed": false
   },
   "outputs": [
    {
     "data": {
      "text/html": [
       "<div>\n",
       "<table border=\"1\" class=\"dataframe\">\n",
       "  <thead>\n",
       "    <tr style=\"text-align: right;\">\n",
       "      <th></th>\n",
       "      <th>First_type</th>\n",
       "      <th>Second_type</th>\n",
       "      <th>Data_property</th>\n",
       "    </tr>\n",
       "    <tr>\n",
       "      <th>Location</th>\n",
       "      <th></th>\n",
       "      <th></th>\n",
       "      <th></th>\n",
       "    </tr>\n",
       "  </thead>\n",
       "  <tbody>\n",
       "    <tr>\n",
       "      <th>100% PLAYGROUND</th>\n",
       "      <td>5</td>\n",
       "      <td>5</td>\n",
       "      <td>5</td>\n",
       "    </tr>\n",
       "    <tr>\n",
       "      <th>5TH ST SLOPE GARDEN</th>\n",
       "      <td>1</td>\n",
       "      <td>1</td>\n",
       "      <td>1</td>\n",
       "    </tr>\n",
       "    <tr>\n",
       "      <th>A PHILIP RANDOLPH SQUARE</th>\n",
       "      <td>1</td>\n",
       "      <td>1</td>\n",
       "      <td>1</td>\n",
       "    </tr>\n",
       "    <tr>\n",
       "      <th>ABE LEBEWOHL PARK</th>\n",
       "      <td>3</td>\n",
       "      <td>3</td>\n",
       "      <td>3</td>\n",
       "    </tr>\n",
       "    <tr>\n",
       "      <th>ABIGAIL PLAYGROUND</th>\n",
       "      <td>2</td>\n",
       "      <td>2</td>\n",
       "      <td>2</td>\n",
       "    </tr>\n",
       "  </tbody>\n",
       "</table>\n",
       "</div>"
      ],
      "text/plain": [
       "                          First_type  Second_type  Data_property\n",
       "Location                                                        \n",
       "100% PLAYGROUND                    5            5              5\n",
       "5TH ST SLOPE GARDEN                1            1              1\n",
       "A PHILIP RANDOLPH SQUARE           1            1              1\n",
       "ABE LEBEWOHL PARK                  3            3              3\n",
       "ABIGAIL PLAYGROUND                 2            2              2"
      ]
     },
     "execution_count": 241,
     "metadata": {},
     "output_type": "execute_result"
    }
   ],
   "source": [
    "df_Park.groupby('Location').count().head()"
   ]
  },
  {
   "cell_type": "code",
   "execution_count": 151,
   "metadata": {
    "collapsed": false
   },
   "outputs": [
    {
     "data": {
      "text/html": [
       "<div>\n",
       "<table border=\"1\" class=\"dataframe\">\n",
       "  <thead>\n",
       "    <tr style=\"text-align: right;\">\n",
       "      <th></th>\n",
       "      <th>Location</th>\n",
       "      <th>First_type</th>\n",
       "      <th>Second_type</th>\n",
       "    </tr>\n",
       "    <tr>\n",
       "      <th>Data_property</th>\n",
       "      <th></th>\n",
       "      <th></th>\n",
       "      <th></th>\n",
       "    </tr>\n",
       "  </thead>\n",
       "  <tbody>\n",
       "    <tr>\n",
       "      <th>Null</th>\n",
       "      <td>5093632</td>\n",
       "      <td>5093632</td>\n",
       "      <td>5093632</td>\n",
       "    </tr>\n",
       "    <tr>\n",
       "      <th>Valid</th>\n",
       "      <td>7599</td>\n",
       "      <td>7599</td>\n",
       "      <td>7599</td>\n",
       "    </tr>\n",
       "  </tbody>\n",
       "</table>\n",
       "</div>"
      ],
      "text/plain": [
       "               Location  First_type  Second_type\n",
       "Data_property                                   \n",
       "Null            5093632     5093632      5093632\n",
       "Valid              7599        7599         7599"
      ]
     },
     "execution_count": 151,
     "metadata": {},
     "output_type": "execute_result"
    }
   ],
   "source": [
    "df_Park.groupby('Data_property').count().head()"
   ]
  },
  {
   "cell_type": "code",
   "execution_count": 244,
   "metadata": {
    "collapsed": false
   },
   "outputs": [
    {
     "name": "stderr",
     "output_type": "stream",
     "text": [
      "/Users/leah/anaconda/lib/python3.5/site-packages/ipykernel/__main__.py:1: FutureWarning: sort(columns=....) is deprecated, use sort_values(by=.....)\n",
      "  if __name__ == '__main__':\n"
     ]
    },
    {
     "data": {
      "text/plain": [
       "<matplotlib.text.Text at 0x1da08b9b0>"
      ]
     },
     "execution_count": 244,
     "metadata": {},
     "output_type": "execute_result"
    },
    {
     "data": {
      "image/png": "[encoded data removed]",
      "text/plain": [
       "<matplotlib.figure.Figure at 0x1d9ea35f8>"
      ]
     },
     "metadata": {},
     "output_type": "display_data"
    }
   ],
   "source": [
    "plot_Park=df_Park.groupby('Location').count().sort(\"First_type\",ascending=False)\n",
    "ax=plot_Park.take([0], axis=1)[1:20].plot(kind='bar',legend=False,title='Top 20 Frequency of Park Name',color=\"lightcoral\")\n",
    "ax.set_xlabel(\"Name of Park\")\n",
    "ax.set_ylabel(\"Frequency\")"
   ]
  },
  {
   "cell_type": "code",
   "execution_count": 155,
   "metadata": {
    "collapsed": false
   },
   "outputs": [
    {
     "data": {
      "text/html": [
       "<div>\n",
       "<table border=\"1\" class=\"dataframe\">\n",
       "  <thead>\n",
       "    <tr style=\"text-align: right;\">\n",
       "      <th></th>\n",
       "      <th>Location</th>\n",
       "      <th>First_type</th>\n",
       "      <th>Second_type</th>\n",
       "      <th>Data_property</th>\n",
       "    </tr>\n",
       "  </thead>\n",
       "  <tbody>\n",
       "    <tr>\n",
       "      <th>0</th>\n",
       "      <td>No Value</td>\n",
       "      <td>Text</td>\n",
       "      <td>Location</td>\n",
       "      <td>Null</td>\n",
       "    </tr>\n",
       "    <tr>\n",
       "      <th>1</th>\n",
       "      <td>No Value</td>\n",
       "      <td>Text</td>\n",
       "      <td>Location</td>\n",
       "      <td>Null</td>\n",
       "    </tr>\n",
       "    <tr>\n",
       "      <th>2</th>\n",
       "      <td>No Value</td>\n",
       "      <td>Text</td>\n",
       "      <td>Location</td>\n",
       "      <td>Null</td>\n",
       "    </tr>\n",
       "    <tr>\n",
       "      <th>3</th>\n",
       "      <td>No Value</td>\n",
       "      <td>Text</td>\n",
       "      <td>Location</td>\n",
       "      <td>Null</td>\n",
       "    </tr>\n",
       "    <tr>\n",
       "      <th>4</th>\n",
       "      <td>No Value</td>\n",
       "      <td>Text</td>\n",
       "      <td>Location</td>\n",
       "      <td>Null</td>\n",
       "    </tr>\n",
       "  </tbody>\n",
       "</table>\n",
       "</div>"
      ],
      "text/plain": [
       "   Location First_type Second_type Data_property\n",
       "0  No Value       Text    Location          Null\n",
       "1  No Value       Text    Location          Null\n",
       "2  No Value       Text    Location          Null\n",
       "3  No Value       Text    Location          Null\n",
       "4  No Value       Text    Location          Null"
      ]
     },
     "execution_count": 155,
     "metadata": {},
     "output_type": "execute_result"
    }
   ],
   "source": [
    "## Column HADEVELOPT\n",
    "df_NYCHA = DataFrame.from_csv(\"/Users/leah/Desktop/script_14/Col_NYCHA_merge.out\",header=None,index_col=False,sep=\"\\t\")\n",
    "df_NYCHA.columns = [\"Location\",\"First_type\",\"Second_type\",\"Data_property\"]\n",
    "df_NYCHA=df_NYCHA.fillna(\"No Value\")\n",
    "df_NYCHA.head()"
   ]
  },
  {
   "cell_type": "code",
   "execution_count": 156,
   "metadata": {
    "collapsed": false
   },
   "outputs": [
    {
     "data": {
      "text/plain": [
       "(5101231, 4)"
      ]
     },
     "execution_count": 156,
     "metadata": {},
     "output_type": "execute_result"
    }
   ],
   "source": [
    "df_NYCHA.shape"
   ]
  },
  {
   "cell_type": "code",
   "execution_count": 159,
   "metadata": {
    "collapsed": false
   },
   "outputs": [
    {
     "data": {
      "text/html": [
       "<div>\n",
       "<table border=\"1\" class=\"dataframe\">\n",
       "  <thead>\n",
       "    <tr style=\"text-align: right;\">\n",
       "      <th></th>\n",
       "      <th>First_type</th>\n",
       "      <th>Second_type</th>\n",
       "      <th>Data_property</th>\n",
       "    </tr>\n",
       "    <tr>\n",
       "      <th>Location</th>\n",
       "      <th></th>\n",
       "      <th></th>\n",
       "      <th></th>\n",
       "    </tr>\n",
       "  </thead>\n",
       "  <tbody>\n",
       "    <tr>\n",
       "      <th>1010 EAST 178TH STREET</th>\n",
       "      <td>1</td>\n",
       "      <td>1</td>\n",
       "      <td>1</td>\n",
       "    </tr>\n",
       "    <tr>\n",
       "      <th>1162-1176 WASHINGTON AVENUE</th>\n",
       "      <td>318</td>\n",
       "      <td>318</td>\n",
       "      <td>318</td>\n",
       "    </tr>\n",
       "    <tr>\n",
       "      <th>131 SAINT NICHOLAS AVENUE</th>\n",
       "      <td>232</td>\n",
       "      <td>232</td>\n",
       "      <td>232</td>\n",
       "    </tr>\n",
       "    <tr>\n",
       "      <th>1471 WATSON AVENUE</th>\n",
       "      <td>224</td>\n",
       "      <td>224</td>\n",
       "      <td>224</td>\n",
       "    </tr>\n",
       "    <tr>\n",
       "      <th>303 VERNON AVENUE</th>\n",
       "      <td>646</td>\n",
       "      <td>646</td>\n",
       "      <td>646</td>\n",
       "    </tr>\n",
       "  </tbody>\n",
       "</table>\n",
       "</div>"
      ],
      "text/plain": [
       "                             First_type  Second_type  Data_property\n",
       "Location                                                           \n",
       "1010 EAST 178TH STREET                1            1              1\n",
       "1162-1176 WASHINGTON AVENUE         318          318            318\n",
       "131 SAINT NICHOLAS AVENUE           232          232            232\n",
       "1471 WATSON AVENUE                  224          224            224\n",
       "303 VERNON AVENUE                   646          646            646"
      ]
     },
     "execution_count": 159,
     "metadata": {},
     "output_type": "execute_result"
    }
   ],
   "source": [
    "df_NYCHA.groupby('Location').count().head()"
   ]
  },
  {
   "cell_type": "code",
   "execution_count": 160,
   "metadata": {
    "collapsed": false
   },
   "outputs": [
    {
     "data": {
      "text/html": [
       "<div>\n",
       "<table border=\"1\" class=\"dataframe\">\n",
       "  <thead>\n",
       "    <tr style=\"text-align: right;\">\n",
       "      <th></th>\n",
       "      <th>Location</th>\n",
       "      <th>First_type</th>\n",
       "      <th>Second_type</th>\n",
       "    </tr>\n",
       "    <tr>\n",
       "      <th>Data_property</th>\n",
       "      <th></th>\n",
       "      <th></th>\n",
       "      <th></th>\n",
       "    </tr>\n",
       "  </thead>\n",
       "  <tbody>\n",
       "    <tr>\n",
       "      <th>Null</th>\n",
       "      <td>4848026</td>\n",
       "      <td>4848026</td>\n",
       "      <td>4848026</td>\n",
       "    </tr>\n",
       "    <tr>\n",
       "      <th>Valid</th>\n",
       "      <td>253205</td>\n",
       "      <td>253205</td>\n",
       "      <td>253205</td>\n",
       "    </tr>\n",
       "  </tbody>\n",
       "</table>\n",
       "</div>"
      ],
      "text/plain": [
       "               Location  First_type  Second_type\n",
       "Data_property                                   \n",
       "Null            4848026     4848026      4848026\n",
       "Valid            253205      253205       253205"
      ]
     },
     "execution_count": 160,
     "metadata": {},
     "output_type": "execute_result"
    }
   ],
   "source": [
    "df_NYCHA.groupby('Data_property').count().head()"
   ]
  },
  {
   "cell_type": "code",
   "execution_count": 246,
   "metadata": {
    "collapsed": false
   },
   "outputs": [
    {
     "name": "stderr",
     "output_type": "stream",
     "text": [
      "/Users/leah/anaconda/lib/python3.5/site-packages/ipykernel/__main__.py:1: FutureWarning: sort(columns=....) is deprecated, use sort_values(by=.....)\n",
      "  if __name__ == '__main__':\n"
     ]
    },
    {
     "data": {
      "text/plain": [
       "<matplotlib.text.Text at 0x1e032c198>"
      ]
     },
     "execution_count": 246,
     "metadata": {},
     "output_type": "execute_result"
    },
    {
     "data": {
      "image/png": "[encoded data removed]",
      "text/plain": [
       "<matplotlib.figure.Figure at 0x1ddc10d30>"
      ]
     },
     "metadata": {},
     "output_type": "display_data"
    }
   ],
   "source": [
    "plot_NYCHA=df_NYCHA.groupby('Location').count().sort(\"First_type\",ascending=False)\n",
    "ax=plot_NYCHA.take([0], axis=1)[1:20].plot(kind='bar',legend=False,title='Top 20 Frequency of NYCHA Housing Development Name',color=\"peachpuff\")\n",
    "ax.set_xlabel(\"Name of NYCHA Housing\")\n",
    "ax.set_ylabel(\"Frequency\")"
   ]
  },
  {
   "cell_type": "code",
   "execution_count": 164,
   "metadata": {
    "collapsed": false
   },
   "outputs": [
    {
     "data": {
      "text/html": [
       "<div>\n",
       "<table border=\"1\" class=\"dataframe\">\n",
       "  <thead>\n",
       "    <tr style=\"text-align: right;\">\n",
       "      <th></th>\n",
       "      <th>Location</th>\n",
       "      <th>First_type</th>\n",
       "      <th>Second_type</th>\n",
       "      <th>Data_property</th>\n",
       "    </tr>\n",
       "  </thead>\n",
       "  <tbody>\n",
       "    <tr>\n",
       "      <th>0</th>\n",
       "      <td>1.00731e+06</td>\n",
       "      <td>String</td>\n",
       "      <td>Location</td>\n",
       "      <td>Valid</td>\n",
       "    </tr>\n",
       "    <tr>\n",
       "      <th>1</th>\n",
       "      <td>1.04399e+06</td>\n",
       "      <td>String</td>\n",
       "      <td>Location</td>\n",
       "      <td>Valid</td>\n",
       "    </tr>\n",
       "    <tr>\n",
       "      <th>2</th>\n",
       "      <td>999463</td>\n",
       "      <td>String</td>\n",
       "      <td>Location</td>\n",
       "      <td>Valid</td>\n",
       "    </tr>\n",
       "    <tr>\n",
       "      <th>3</th>\n",
       "      <td>1.06018e+06</td>\n",
       "      <td>String</td>\n",
       "      <td>Location</td>\n",
       "      <td>Valid</td>\n",
       "    </tr>\n",
       "    <tr>\n",
       "      <th>4</th>\n",
       "      <td>987606</td>\n",
       "      <td>String</td>\n",
       "      <td>Location</td>\n",
       "      <td>Valid</td>\n",
       "    </tr>\n",
       "  </tbody>\n",
       "</table>\n",
       "</div>"
      ],
      "text/plain": [
       "      Location First_type Second_type Data_property\n",
       "0  1.00731e+06     String    Location         Valid\n",
       "1  1.04399e+06     String    Location         Valid\n",
       "2       999463     String    Location         Valid\n",
       "3  1.06018e+06     String    Location         Valid\n",
       "4       987606     String    Location         Valid"
      ]
     },
     "execution_count": 164,
     "metadata": {},
     "output_type": "execute_result"
    }
   ],
   "source": [
    "## X_COORD_CD\n",
    "df_Xcoord = DataFrame.from_csv(\"/Users/leah/Desktop/script_14/Col_Xcoord_merge.out\",header=None,index_col=False,sep=\"\\t\")\n",
    "df_Xcoord.columns = [\"Location\",\"First_type\",\"Second_type\",\"Data_property\"]\n",
    "df_Xcoord=df_Xcoord.fillna(\"No Value\")\n",
    "df_Xcoord.head()"
   ]
  },
  {
   "cell_type": "code",
   "execution_count": 165,
   "metadata": {
    "collapsed": false
   },
   "outputs": [
    {
     "data": {
      "text/plain": [
       "(5101231, 4)"
      ]
     },
     "execution_count": 165,
     "metadata": {},
     "output_type": "execute_result"
    }
   ],
   "source": [
    "df_Xcoord.shape"
   ]
  },
  {
   "cell_type": "code",
   "execution_count": 166,
   "metadata": {
    "collapsed": false
   },
   "outputs": [
    {
     "data": {
      "text/html": [
       "<div>\n",
       "<table border=\"1\" class=\"dataframe\">\n",
       "  <thead>\n",
       "    <tr style=\"text-align: right;\">\n",
       "      <th></th>\n",
       "      <th>First_type</th>\n",
       "      <th>Second_type</th>\n",
       "      <th>Data_property</th>\n",
       "    </tr>\n",
       "    <tr>\n",
       "      <th>Location</th>\n",
       "      <th></th>\n",
       "      <th></th>\n",
       "      <th></th>\n",
       "    </tr>\n",
       "  </thead>\n",
       "  <tbody>\n",
       "    <tr>\n",
       "      <th>913319.0</th>\n",
       "      <td>7</td>\n",
       "      <td>7</td>\n",
       "      <td>7</td>\n",
       "    </tr>\n",
       "    <tr>\n",
       "      <th>913357.0</th>\n",
       "      <td>1</td>\n",
       "      <td>1</td>\n",
       "      <td>1</td>\n",
       "    </tr>\n",
       "    <tr>\n",
       "      <th>913413.0</th>\n",
       "      <td>3</td>\n",
       "      <td>3</td>\n",
       "      <td>3</td>\n",
       "    </tr>\n",
       "    <tr>\n",
       "      <th>913460.0</th>\n",
       "      <td>6</td>\n",
       "      <td>6</td>\n",
       "      <td>6</td>\n",
       "    </tr>\n",
       "    <tr>\n",
       "      <th>913498.0</th>\n",
       "      <td>3</td>\n",
       "      <td>3</td>\n",
       "      <td>3</td>\n",
       "    </tr>\n",
       "  </tbody>\n",
       "</table>\n",
       "</div>"
      ],
      "text/plain": [
       "          First_type  Second_type  Data_property\n",
       "Location                                        \n",
       "913319.0           7            7              7\n",
       "913357.0           1            1              1\n",
       "913413.0           3            3              3\n",
       "913460.0           6            6              6\n",
       "913498.0           3            3              3"
      ]
     },
     "execution_count": 166,
     "metadata": {},
     "output_type": "execute_result"
    }
   ],
   "source": [
    "df_Xcoord.groupby('Location').count().head()"
   ]
  },
  {
   "cell_type": "code",
   "execution_count": 167,
   "metadata": {
    "collapsed": false
   },
   "outputs": [
    {
     "data": {
      "text/html": [
       "<div>\n",
       "<table border=\"1\" class=\"dataframe\">\n",
       "  <thead>\n",
       "    <tr style=\"text-align: right;\">\n",
       "      <th></th>\n",
       "      <th>Location</th>\n",
       "      <th>First_type</th>\n",
       "      <th>Second_type</th>\n",
       "    </tr>\n",
       "    <tr>\n",
       "      <th>Data_property</th>\n",
       "      <th></th>\n",
       "      <th></th>\n",
       "      <th></th>\n",
       "    </tr>\n",
       "  </thead>\n",
       "  <tbody>\n",
       "    <tr>\n",
       "      <th>Null</th>\n",
       "      <td>188146</td>\n",
       "      <td>188146</td>\n",
       "      <td>188146</td>\n",
       "    </tr>\n",
       "    <tr>\n",
       "      <th>Valid</th>\n",
       "      <td>4913085</td>\n",
       "      <td>4913085</td>\n",
       "      <td>4913085</td>\n",
       "    </tr>\n",
       "  </tbody>\n",
       "</table>\n",
       "</div>"
      ],
      "text/plain": [
       "               Location  First_type  Second_type\n",
       "Data_property                                   \n",
       "Null             188146      188146       188146\n",
       "Valid           4913085     4913085      4913085"
      ]
     },
     "execution_count": 167,
     "metadata": {},
     "output_type": "execute_result"
    }
   ],
   "source": [
    "df_Xcoord.groupby('Data_property').count()"
   ]
  },
  {
   "cell_type": "code",
   "execution_count": 248,
   "metadata": {
    "collapsed": false
   },
   "outputs": [
    {
     "name": "stderr",
     "output_type": "stream",
     "text": [
      "/Users/leah/anaconda/lib/python3.5/site-packages/ipykernel/__main__.py:1: FutureWarning: sort(columns=....) is deprecated, use sort_values(by=.....)\n",
      "  if __name__ == '__main__':\n"
     ]
    },
    {
     "data": {
      "text/plain": [
       "<matplotlib.text.Text at 0x1d9563e10>"
      ]
     },
     "execution_count": 248,
     "metadata": {},
     "output_type": "execute_result"
    },
    {
     "data": {
      "image/png": "[encoded data removed]",
      "text/plain": [
       "<matplotlib.figure.Figure at 0x1e0423e10>"
      ]
     },
     "metadata": {},
     "output_type": "display_data"
    }
   ],
   "source": [
    "plot_Xcoord=df_Xcoord.groupby('Location').count().sort(\"First_type\",ascending=False)\n",
    "ax=plot_Xcoord.take([0], axis=1)[1:20].plot(kind='bar',legend=False,title='Top 20 Frequency of X coordinate',color=\"limegreen\")\n",
    "ax.set_xlabel(\"X coordinate\")\n",
    "ax.set_ylabel(\"Frequency\")"
   ]
  },
  {
   "cell_type": "code",
   "execution_count": 172,
   "metadata": {
    "collapsed": false
   },
   "outputs": [
    {
     "data": {
      "text/html": [
       "<div>\n",
       "<table border=\"1\" class=\"dataframe\">\n",
       "  <thead>\n",
       "    <tr style=\"text-align: right;\">\n",
       "      <th></th>\n",
       "      <th>Location</th>\n",
       "      <th>First_type</th>\n",
       "      <th>Second_type</th>\n",
       "      <th>Data_property</th>\n",
       "    </tr>\n",
       "  </thead>\n",
       "  <tbody>\n",
       "    <tr>\n",
       "      <th>0</th>\n",
       "      <td>241257</td>\n",
       "      <td>String</td>\n",
       "      <td>Location</td>\n",
       "      <td>Valid</td>\n",
       "    </tr>\n",
       "    <tr>\n",
       "      <th>1</th>\n",
       "      <td>193406</td>\n",
       "      <td>String</td>\n",
       "      <td>Location</td>\n",
       "      <td>Valid</td>\n",
       "    </tr>\n",
       "    <tr>\n",
       "      <th>2</th>\n",
       "      <td>231690</td>\n",
       "      <td>String</td>\n",
       "      <td>Location</td>\n",
       "      <td>Valid</td>\n",
       "    </tr>\n",
       "    <tr>\n",
       "      <th>3</th>\n",
       "      <td>177862</td>\n",
       "      <td>String</td>\n",
       "      <td>Location</td>\n",
       "      <td>Valid</td>\n",
       "    </tr>\n",
       "    <tr>\n",
       "      <th>4</th>\n",
       "      <td>208148</td>\n",
       "      <td>String</td>\n",
       "      <td>Location</td>\n",
       "      <td>Valid</td>\n",
       "    </tr>\n",
       "  </tbody>\n",
       "</table>\n",
       "</div>"
      ],
      "text/plain": [
       "  Location First_type Second_type Data_property\n",
       "0   241257     String    Location         Valid\n",
       "1   193406     String    Location         Valid\n",
       "2   231690     String    Location         Valid\n",
       "3   177862     String    Location         Valid\n",
       "4   208148     String    Location         Valid"
      ]
     },
     "execution_count": 172,
     "metadata": {},
     "output_type": "execute_result"
    }
   ],
   "source": [
    "## Y_COORD_CD\n",
    "df_ycoord = DataFrame.from_csv(\"/Users/leah/Desktop/script_14/Col_ycoord_merge.out\",header=None,index_col=False,sep=\"\\t\")\n",
    "df_ycoord.columns = [\"Location\",\"First_type\",\"Second_type\",\"Data_property\"]\n",
    "df_ycoord=df_ycoord.fillna(\"No Value\")\n",
    "#df_Loc.Location[df_Loc.Location == ' '] =\"No Value\" \n",
    "df_ycoord.head()"
   ]
  },
  {
   "cell_type": "code",
   "execution_count": 173,
   "metadata": {
    "collapsed": false
   },
   "outputs": [
    {
     "data": {
      "text/plain": [
       "(5101231, 4)"
      ]
     },
     "execution_count": 173,
     "metadata": {},
     "output_type": "execute_result"
    }
   ],
   "source": [
    "df_ycoord.shape"
   ]
  },
  {
   "cell_type": "code",
   "execution_count": 174,
   "metadata": {
    "collapsed": false
   },
   "outputs": [
    {
     "data": {
      "text/html": [
       "<div>\n",
       "<table border=\"1\" class=\"dataframe\">\n",
       "  <thead>\n",
       "    <tr style=\"text-align: right;\">\n",
       "      <th></th>\n",
       "      <th>First_type</th>\n",
       "      <th>Second_type</th>\n",
       "      <th>Data_property</th>\n",
       "    </tr>\n",
       "    <tr>\n",
       "      <th>Location</th>\n",
       "      <th></th>\n",
       "      <th></th>\n",
       "      <th></th>\n",
       "    </tr>\n",
       "  </thead>\n",
       "  <tbody>\n",
       "    <tr>\n",
       "      <th>120829.0</th>\n",
       "      <td>1</td>\n",
       "      <td>1</td>\n",
       "      <td>1</td>\n",
       "    </tr>\n",
       "    <tr>\n",
       "      <th>121080.0</th>\n",
       "      <td>24</td>\n",
       "      <td>24</td>\n",
       "      <td>24</td>\n",
       "    </tr>\n",
       "    <tr>\n",
       "      <th>121131.0</th>\n",
       "      <td>23</td>\n",
       "      <td>23</td>\n",
       "      <td>23</td>\n",
       "    </tr>\n",
       "    <tr>\n",
       "      <th>121152.0</th>\n",
       "      <td>9</td>\n",
       "      <td>9</td>\n",
       "      <td>9</td>\n",
       "    </tr>\n",
       "    <tr>\n",
       "      <th>121219.0</th>\n",
       "      <td>3</td>\n",
       "      <td>3</td>\n",
       "      <td>3</td>\n",
       "    </tr>\n",
       "  </tbody>\n",
       "</table>\n",
       "</div>"
      ],
      "text/plain": [
       "          First_type  Second_type  Data_property\n",
       "Location                                        \n",
       "120829.0           1            1              1\n",
       "121080.0          24           24             24\n",
       "121131.0          23           23             23\n",
       "121152.0           9            9              9\n",
       "121219.0           3            3              3"
      ]
     },
     "execution_count": 174,
     "metadata": {},
     "output_type": "execute_result"
    }
   ],
   "source": [
    "df_ycoord.groupby('Location').count().head()"
   ]
  },
  {
   "cell_type": "code",
   "execution_count": 175,
   "metadata": {
    "collapsed": false
   },
   "outputs": [
    {
     "data": {
      "text/html": [
       "<div>\n",
       "<table border=\"1\" class=\"dataframe\">\n",
       "  <thead>\n",
       "    <tr style=\"text-align: right;\">\n",
       "      <th></th>\n",
       "      <th>Location</th>\n",
       "      <th>First_type</th>\n",
       "      <th>Second_type</th>\n",
       "    </tr>\n",
       "    <tr>\n",
       "      <th>Data_property</th>\n",
       "      <th></th>\n",
       "      <th></th>\n",
       "      <th></th>\n",
       "    </tr>\n",
       "  </thead>\n",
       "  <tbody>\n",
       "    <tr>\n",
       "      <th>Null</th>\n",
       "      <td>188146</td>\n",
       "      <td>188146</td>\n",
       "      <td>188146</td>\n",
       "    </tr>\n",
       "    <tr>\n",
       "      <th>Valid</th>\n",
       "      <td>4913085</td>\n",
       "      <td>4913085</td>\n",
       "      <td>4913085</td>\n",
       "    </tr>\n",
       "  </tbody>\n",
       "</table>\n",
       "</div>"
      ],
      "text/plain": [
       "               Location  First_type  Second_type\n",
       "Data_property                                   \n",
       "Null             188146      188146       188146\n",
       "Valid           4913085     4913085      4913085"
      ]
     },
     "execution_count": 175,
     "metadata": {},
     "output_type": "execute_result"
    }
   ],
   "source": [
    "df_ycoord.groupby('Data_property').count().head()"
   ]
  },
  {
   "cell_type": "code",
   "execution_count": 250,
   "metadata": {
    "collapsed": false
   },
   "outputs": [
    {
     "name": "stderr",
     "output_type": "stream",
     "text": [
      "/Users/leah/anaconda/lib/python3.5/site-packages/ipykernel/__main__.py:1: FutureWarning: sort(columns=....) is deprecated, use sort_values(by=.....)\n",
      "  if __name__ == '__main__':\n"
     ]
    },
    {
     "data": {
      "text/plain": [
       "<matplotlib.text.Text at 0x1e00ff588>"
      ]
     },
     "execution_count": 250,
     "metadata": {},
     "output_type": "execute_result"
    },
    {
     "data": {
      "image/png": "[encoded data removed]",
      "text/plain": [
       "<matplotlib.figure.Figure at 0x1d9730400>"
      ]
     },
     "metadata": {},
     "output_type": "display_data"
    }
   ],
   "source": [
    "plot_ycoord=df_ycoord.groupby('Location').count().sort(\"First_type\",ascending=False)\n",
    "ax=plot_ycoord.take([0], axis=1)[1:20].plot(kind='bar',legend=False,title='Top 20 Frequency of Y coordinate',color=\"plum\")\n",
    "ax.set_xlabel(\"Y coordinate\")\n",
    "ax.set_ylabel(\"Frequency\")"
   ]
  },
  {
   "cell_type": "code",
   "execution_count": 177,
   "metadata": {
    "collapsed": false
   },
   "outputs": [
    {
     "data": {
      "text/html": [
       "<div>\n",
       "<table border=\"1\" class=\"dataframe\">\n",
       "  <thead>\n",
       "    <tr style=\"text-align: right;\">\n",
       "      <th></th>\n",
       "      <th>Location</th>\n",
       "      <th>First_type</th>\n",
       "      <th>Second_type</th>\n",
       "      <th>Data_property</th>\n",
       "    </tr>\n",
       "  </thead>\n",
       "  <tbody>\n",
       "    <tr>\n",
       "      <th>0</th>\n",
       "      <td>40.8288</td>\n",
       "      <td>String</td>\n",
       "      <td>Location</td>\n",
       "      <td>Valid</td>\n",
       "    </tr>\n",
       "    <tr>\n",
       "      <th>1</th>\n",
       "      <td>40.6973</td>\n",
       "      <td>String</td>\n",
       "      <td>Location</td>\n",
       "      <td>Valid</td>\n",
       "    </tr>\n",
       "    <tr>\n",
       "      <th>2</th>\n",
       "      <td>40.8026</td>\n",
       "      <td>String</td>\n",
       "      <td>Location</td>\n",
       "      <td>Valid</td>\n",
       "    </tr>\n",
       "    <tr>\n",
       "      <th>3</th>\n",
       "      <td>40.6545</td>\n",
       "      <td>String</td>\n",
       "      <td>Location</td>\n",
       "      <td>Valid</td>\n",
       "    </tr>\n",
       "    <tr>\n",
       "      <th>4</th>\n",
       "      <td>40.738</td>\n",
       "      <td>String</td>\n",
       "      <td>Location</td>\n",
       "      <td>Valid</td>\n",
       "    </tr>\n",
       "  </tbody>\n",
       "</table>\n",
       "</div>"
      ],
      "text/plain": [
       "  Location First_type Second_type Data_property\n",
       "0  40.8288     String    Location         Valid\n",
       "1  40.6973     String    Location         Valid\n",
       "2  40.8026     String    Location         Valid\n",
       "3  40.6545     String    Location         Valid\n",
       "4   40.738     String    Location         Valid"
      ]
     },
     "execution_count": 177,
     "metadata": {},
     "output_type": "execute_result"
    }
   ],
   "source": [
    "## Column Latitude\n",
    "df_Latitude = DataFrame.from_csv(\"/Users/leah/Desktop/script_14/Col_Latitude_merge.out\",header=None,index_col=False,sep=\"\\t\")\n",
    "df_Latitude.columns = [\"Location\",\"First_type\",\"Second_type\",\"Data_property\"]\n",
    "df_Latitude=df_Latitude.fillna(\"No Value\")\n",
    "df_Latitude.head()"
   ]
  },
  {
   "cell_type": "code",
   "execution_count": 178,
   "metadata": {
    "collapsed": false
   },
   "outputs": [
    {
     "data": {
      "text/plain": [
       "(5101231, 4)"
      ]
     },
     "execution_count": 178,
     "metadata": {},
     "output_type": "execute_result"
    }
   ],
   "source": [
    "df_Latitude.shape"
   ]
  },
  {
   "cell_type": "code",
   "execution_count": 179,
   "metadata": {
    "collapsed": false
   },
   "outputs": [
    {
     "data": {
      "text/html": [
       "<div>\n",
       "<table border=\"1\" class=\"dataframe\">\n",
       "  <thead>\n",
       "    <tr style=\"text-align: right;\">\n",
       "      <th></th>\n",
       "      <th>First_type</th>\n",
       "      <th>Second_type</th>\n",
       "      <th>Data_property</th>\n",
       "    </tr>\n",
       "    <tr>\n",
       "      <th>Location</th>\n",
       "      <th></th>\n",
       "      <th></th>\n",
       "      <th></th>\n",
       "    </tr>\n",
       "  </thead>\n",
       "  <tbody>\n",
       "    <tr>\n",
       "      <th>40.498061</th>\n",
       "      <td>1</td>\n",
       "      <td>1</td>\n",
       "      <td>1</td>\n",
       "    </tr>\n",
       "    <tr>\n",
       "      <th>40.498768</th>\n",
       "      <td>24</td>\n",
       "      <td>24</td>\n",
       "      <td>24</td>\n",
       "    </tr>\n",
       "    <tr>\n",
       "      <th>40.498905</th>\n",
       "      <td>23</td>\n",
       "      <td>23</td>\n",
       "      <td>23</td>\n",
       "    </tr>\n",
       "    <tr>\n",
       "      <th>40.498957</th>\n",
       "      <td>9</td>\n",
       "      <td>9</td>\n",
       "      <td>9</td>\n",
       "    </tr>\n",
       "    <tr>\n",
       "      <th>40.499143</th>\n",
       "      <td>3</td>\n",
       "      <td>3</td>\n",
       "      <td>3</td>\n",
       "    </tr>\n",
       "  </tbody>\n",
       "</table>\n",
       "</div>"
      ],
      "text/plain": [
       "           First_type  Second_type  Data_property\n",
       "Location                                         \n",
       "40.498061           1            1              1\n",
       "40.498768          24           24             24\n",
       "40.498905          23           23             23\n",
       "40.498957           9            9              9\n",
       "40.499143           3            3              3"
      ]
     },
     "execution_count": 179,
     "metadata": {},
     "output_type": "execute_result"
    }
   ],
   "source": [
    "df_Latitude.groupby('Location').count().head()"
   ]
  },
  {
   "cell_type": "code",
   "execution_count": 180,
   "metadata": {
    "collapsed": false
   },
   "outputs": [
    {
     "data": {
      "text/html": [
       "<div>\n",
       "<table border=\"1\" class=\"dataframe\">\n",
       "  <thead>\n",
       "    <tr style=\"text-align: right;\">\n",
       "      <th></th>\n",
       "      <th>Location</th>\n",
       "      <th>First_type</th>\n",
       "      <th>Second_type</th>\n",
       "    </tr>\n",
       "    <tr>\n",
       "      <th>Data_property</th>\n",
       "      <th></th>\n",
       "      <th></th>\n",
       "      <th></th>\n",
       "    </tr>\n",
       "  </thead>\n",
       "  <tbody>\n",
       "    <tr>\n",
       "      <th>Null</th>\n",
       "      <td>188146</td>\n",
       "      <td>188146</td>\n",
       "      <td>188146</td>\n",
       "    </tr>\n",
       "    <tr>\n",
       "      <th>Valid</th>\n",
       "      <td>4913085</td>\n",
       "      <td>4913085</td>\n",
       "      <td>4913085</td>\n",
       "    </tr>\n",
       "  </tbody>\n",
       "</table>\n",
       "</div>"
      ],
      "text/plain": [
       "               Location  First_type  Second_type\n",
       "Data_property                                   \n",
       "Null             188146      188146       188146\n",
       "Valid           4913085     4913085      4913085"
      ]
     },
     "execution_count": 180,
     "metadata": {},
     "output_type": "execute_result"
    }
   ],
   "source": [
    "df_Latitude.groupby('Data_property').count()"
   ]
  },
  {
   "cell_type": "code",
   "execution_count": 251,
   "metadata": {
    "collapsed": false
   },
   "outputs": [
    {
     "name": "stderr",
     "output_type": "stream",
     "text": [
      "/Users/leah/anaconda/lib/python3.5/site-packages/ipykernel/__main__.py:1: FutureWarning: sort(columns=....) is deprecated, use sort_values(by=.....)\n",
      "  if __name__ == '__main__':\n"
     ]
    },
    {
     "data": {
      "text/plain": [
       "<matplotlib.text.Text at 0x1e0945908>"
      ]
     },
     "execution_count": 251,
     "metadata": {},
     "output_type": "execute_result"
    },
    {
     "data": {
      "image/png": "[encoded data removed]",
      "text/plain": [
       "<matplotlib.figure.Figure at 0x1e091a160>"
      ]
     },
     "metadata": {},
     "output_type": "display_data"
    }
   ],
   "source": [
    "plot_Latitude=df_Latitude.groupby('Location').count().sort(\"First_type\",ascending=False)\n",
    "ax=plot_Latitude.take([0], axis=1)[1:20].plot(kind='bar',legend=False,title='Top 20 Frequency of Latitude',color=\"salmon\")\n",
    "ax.set_xlabel(\"Latitude\")\n",
    "ax.set_ylabel(\"Frequency\")"
   ]
  },
  {
   "cell_type": "code",
   "execution_count": 182,
   "metadata": {
    "collapsed": false
   },
   "outputs": [
    {
     "data": {
      "text/html": [
       "<div>\n",
       "<table border=\"1\" class=\"dataframe\">\n",
       "  <thead>\n",
       "    <tr style=\"text-align: right;\">\n",
       "      <th></th>\n",
       "      <th>Location</th>\n",
       "      <th>First_type</th>\n",
       "      <th>Second_type</th>\n",
       "      <th>Data_property</th>\n",
       "    </tr>\n",
       "  </thead>\n",
       "  <tbody>\n",
       "    <tr>\n",
       "      <th>0</th>\n",
       "      <td>-73.9167</td>\n",
       "      <td>String</td>\n",
       "      <td>Location</td>\n",
       "      <td>Valid</td>\n",
       "    </tr>\n",
       "    <tr>\n",
       "      <th>1</th>\n",
       "      <td>-73.7846</td>\n",
       "      <td>String</td>\n",
       "      <td>Location</td>\n",
       "      <td>Valid</td>\n",
       "    </tr>\n",
       "    <tr>\n",
       "      <th>2</th>\n",
       "      <td>-73.9451</td>\n",
       "      <td>String</td>\n",
       "      <td>Location</td>\n",
       "      <td>Valid</td>\n",
       "    </tr>\n",
       "    <tr>\n",
       "      <th>3</th>\n",
       "      <td>-73.7263</td>\n",
       "      <td>String</td>\n",
       "      <td>Location</td>\n",
       "      <td>Valid</td>\n",
       "    </tr>\n",
       "    <tr>\n",
       "      <th>4</th>\n",
       "      <td>-73.9879</td>\n",
       "      <td>String</td>\n",
       "      <td>Location</td>\n",
       "      <td>Valid</td>\n",
       "    </tr>\n",
       "  </tbody>\n",
       "</table>\n",
       "</div>"
      ],
      "text/plain": [
       "  Location First_type Second_type Data_property\n",
       "0 -73.9167     String    Location         Valid\n",
       "1 -73.7846     String    Location         Valid\n",
       "2 -73.9451     String    Location         Valid\n",
       "3 -73.7263     String    Location         Valid\n",
       "4 -73.9879     String    Location         Valid"
      ]
     },
     "execution_count": 182,
     "metadata": {},
     "output_type": "execute_result"
    }
   ],
   "source": [
    "## Column Longitude\n",
    "df_Longitude = DataFrame.from_csv(\"/Users/leah/Desktop/script_14/Col_Longitude_merge.out\",header=None,index_col=False,sep=\"\\t\")\n",
    "df_Longitude.columns = [\"Location\",\"First_type\",\"Second_type\",\"Data_property\"]\n",
    "df_Longitude=df_Longitude.fillna(\"No Value\")\n",
    "#df_Loc.Location[df_Loc.Location == ' '] =\"No Value\" \n",
    "df_Longitude.head()"
   ]
  },
  {
   "cell_type": "code",
   "execution_count": 183,
   "metadata": {
    "collapsed": false
   },
   "outputs": [
    {
     "data": {
      "text/plain": [
       "(5101231, 4)"
      ]
     },
     "execution_count": 183,
     "metadata": {},
     "output_type": "execute_result"
    }
   ],
   "source": [
    "df_Longitude.shape"
   ]
  },
  {
   "cell_type": "code",
   "execution_count": 184,
   "metadata": {
    "collapsed": false
   },
   "outputs": [
    {
     "data": {
      "text/html": [
       "<div>\n",
       "<table border=\"1\" class=\"dataframe\">\n",
       "  <thead>\n",
       "    <tr style=\"text-align: right;\">\n",
       "      <th></th>\n",
       "      <th>First_type</th>\n",
       "      <th>Second_type</th>\n",
       "      <th>Data_property</th>\n",
       "    </tr>\n",
       "    <tr>\n",
       "      <th>Location</th>\n",
       "      <th></th>\n",
       "      <th></th>\n",
       "      <th></th>\n",
       "    </tr>\n",
       "  </thead>\n",
       "  <tbody>\n",
       "    <tr>\n",
       "      <th>-74.255076</th>\n",
       "      <td>7</td>\n",
       "      <td>7</td>\n",
       "      <td>7</td>\n",
       "    </tr>\n",
       "    <tr>\n",
       "      <th>-74.254939</th>\n",
       "      <td>1</td>\n",
       "      <td>1</td>\n",
       "      <td>1</td>\n",
       "    </tr>\n",
       "    <tr>\n",
       "      <th>-74.254736</th>\n",
       "      <td>3</td>\n",
       "      <td>3</td>\n",
       "      <td>3</td>\n",
       "    </tr>\n",
       "    <tr>\n",
       "      <th>-74.254571</th>\n",
       "      <td>6</td>\n",
       "      <td>6</td>\n",
       "      <td>6</td>\n",
       "    </tr>\n",
       "    <tr>\n",
       "      <th>-74.254432</th>\n",
       "      <td>3</td>\n",
       "      <td>3</td>\n",
       "      <td>3</td>\n",
       "    </tr>\n",
       "  </tbody>\n",
       "</table>\n",
       "</div>"
      ],
      "text/plain": [
       "            First_type  Second_type  Data_property\n",
       "Location                                          \n",
       "-74.255076           7            7              7\n",
       "-74.254939           1            1              1\n",
       "-74.254736           3            3              3\n",
       "-74.254571           6            6              6\n",
       "-74.254432           3            3              3"
      ]
     },
     "execution_count": 184,
     "metadata": {},
     "output_type": "execute_result"
    }
   ],
   "source": [
    "df_Longitude.groupby('Location').count().head()"
   ]
  },
  {
   "cell_type": "code",
   "execution_count": 185,
   "metadata": {
    "collapsed": false
   },
   "outputs": [
    {
     "data": {
      "text/html": [
       "<div>\n",
       "<table border=\"1\" class=\"dataframe\">\n",
       "  <thead>\n",
       "    <tr style=\"text-align: right;\">\n",
       "      <th></th>\n",
       "      <th>Location</th>\n",
       "      <th>First_type</th>\n",
       "      <th>Second_type</th>\n",
       "    </tr>\n",
       "    <tr>\n",
       "      <th>Data_property</th>\n",
       "      <th></th>\n",
       "      <th></th>\n",
       "      <th></th>\n",
       "    </tr>\n",
       "  </thead>\n",
       "  <tbody>\n",
       "    <tr>\n",
       "      <th>Null</th>\n",
       "      <td>188146</td>\n",
       "      <td>188146</td>\n",
       "      <td>188146</td>\n",
       "    </tr>\n",
       "    <tr>\n",
       "      <th>Valid</th>\n",
       "      <td>4913085</td>\n",
       "      <td>4913085</td>\n",
       "      <td>4913085</td>\n",
       "    </tr>\n",
       "  </tbody>\n",
       "</table>\n",
       "</div>"
      ],
      "text/plain": [
       "               Location  First_type  Second_type\n",
       "Data_property                                   \n",
       "Null             188146      188146       188146\n",
       "Valid           4913085     4913085      4913085"
      ]
     },
     "execution_count": 185,
     "metadata": {},
     "output_type": "execute_result"
    }
   ],
   "source": [
    "df_Longitude.groupby('Data_property').count()"
   ]
  },
  {
   "cell_type": "code",
   "execution_count": 255,
   "metadata": {
    "collapsed": false,
    "scrolled": true
   },
   "outputs": [
    {
     "name": "stderr",
     "output_type": "stream",
     "text": [
      "/Users/leah/anaconda/lib/python3.5/site-packages/ipykernel/__main__.py:1: FutureWarning: sort(columns=....) is deprecated, use sort_values(by=.....)\n",
      "  if __name__ == '__main__':\n"
     ]
    },
    {
     "data": {
      "text/plain": [
       "<matplotlib.text.Text at 0x140d2e048>"
      ]
     },
     "execution_count": 255,
     "metadata": {},
     "output_type": "execute_result"
    },
    {
     "data": {
      "image/png": "[encoded data removed]",
      "text/plain": [
       "<matplotlib.figure.Figure at 0x13bf35358>"
      ]
     },
     "metadata": {},
     "output_type": "display_data"
    }
   ],
   "source": [
    "plot_Longitude=df_Longitude.groupby('Location').count().sort(\"First_type\",ascending=False)\n",
    "ax=plot_Longitude.take([0], axis=1)[1:20].plot(kind='bar',legend=False,title='Top 20 Frequency of Longitude',color=\"blue\")\n",
    "ax.set_xlabel(\"Longitude\")\n",
    "ax.set_ylabel(\"Frequency\")"
   ]
  },
  {
   "cell_type": "code",
   "execution_count": 195,
   "metadata": {
    "collapsed": false
   },
   "outputs": [
    {
     "data": {
      "text/html": [
       "<div>\n",
       "<table border=\"1\" class=\"dataframe\">\n",
       "  <thead>\n",
       "    <tr style=\"text-align: right;\">\n",
       "      <th></th>\n",
       "      <th>Location</th>\n",
       "      <th>First_type</th>\n",
       "      <th>Second_type</th>\n",
       "      <th>Data_property</th>\n",
       "    </tr>\n",
       "  </thead>\n",
       "  <tbody>\n",
       "    <tr>\n",
       "      <th>0</th>\n",
       "      <td>(40.828848333, -73.916661142)</td>\n",
       "      <td>String</td>\n",
       "      <td>Location</td>\n",
       "      <td>Valid</td>\n",
       "    </tr>\n",
       "    <tr>\n",
       "      <th>1</th>\n",
       "      <td>(40.697338138, -73.784556739)</td>\n",
       "      <td>String</td>\n",
       "      <td>Location</td>\n",
       "      <td>Valid</td>\n",
       "    </tr>\n",
       "    <tr>\n",
       "      <th>2</th>\n",
       "      <td>(40.802606608, -73.945051911)</td>\n",
       "      <td>String</td>\n",
       "      <td>Location</td>\n",
       "      <td>Valid</td>\n",
       "    </tr>\n",
       "    <tr>\n",
       "      <th>3</th>\n",
       "      <td>(40.654549444, -73.726338791)</td>\n",
       "      <td>String</td>\n",
       "      <td>Location</td>\n",
       "      <td>Valid</td>\n",
       "    </tr>\n",
       "    <tr>\n",
       "      <th>4</th>\n",
       "      <td>(40.7380024, -73.98789129)</td>\n",
       "      <td>String</td>\n",
       "      <td>Location</td>\n",
       "      <td>Valid</td>\n",
       "    </tr>\n",
       "  </tbody>\n",
       "</table>\n",
       "</div>"
      ],
      "text/plain": [
       "                        Location First_type Second_type Data_property\n",
       "0  (40.828848333, -73.916661142)     String    Location         Valid\n",
       "1  (40.697338138, -73.784556739)     String    Location         Valid\n",
       "2  (40.802606608, -73.945051911)     String    Location         Valid\n",
       "3  (40.654549444, -73.726338791)     String    Location         Valid\n",
       "4     (40.7380024, -73.98789129)     String    Location         Valid"
      ]
     },
     "execution_count": 195,
     "metadata": {},
     "output_type": "execute_result"
    }
   ],
   "source": [
    "## Column Lat_lon\n",
    "df_Lat_lon = DataFrame.from_csv(\"/Users/leah/Desktop/script_14/Col_Lat_lon_merge.out\",header=None,index_col=False,sep=\"\\t\")\n",
    "df_Lat_lon.columns = [\"Location\",\"First_type\",\"Second_type\",\"Data_property\"]\n",
    "df_Lat_lon=df_Lat_lon.fillna(\"No Value\")\n",
    "df_Lat_lon.head()"
   ]
  },
  {
   "cell_type": "code",
   "execution_count": 197,
   "metadata": {
    "collapsed": false
   },
   "outputs": [
    {
     "data": {
      "text/plain": [
       "(5101231, 4)"
      ]
     },
     "execution_count": 197,
     "metadata": {},
     "output_type": "execute_result"
    }
   ],
   "source": [
    "df_Lat_lon.shape"
   ]
  },
  {
   "cell_type": "code",
   "execution_count": 198,
   "metadata": {
    "collapsed": false
   },
   "outputs": [
    {
     "data": {
      "text/html": [
       "<div>\n",
       "<table border=\"1\" class=\"dataframe\">\n",
       "  <thead>\n",
       "    <tr style=\"text-align: right;\">\n",
       "      <th></th>\n",
       "      <th>First_type</th>\n",
       "      <th>Second_type</th>\n",
       "      <th>Data_property</th>\n",
       "    </tr>\n",
       "    <tr>\n",
       "      <th>Location</th>\n",
       "      <th></th>\n",
       "      <th></th>\n",
       "      <th></th>\n",
       "    </tr>\n",
       "  </thead>\n",
       "  <tbody>\n",
       "    <tr>\n",
       "      <th>(40.498060701, -74.248893743)</th>\n",
       "      <td>1</td>\n",
       "      <td>1</td>\n",
       "      <td>1</td>\n",
       "    </tr>\n",
       "    <tr>\n",
       "      <th>(40.49876753, -74.240511403)</th>\n",
       "      <td>24</td>\n",
       "      <td>24</td>\n",
       "      <td>24</td>\n",
       "    </tr>\n",
       "    <tr>\n",
       "      <th>(40.498905363, -74.24153665)</th>\n",
       "      <td>23</td>\n",
       "      <td>23</td>\n",
       "      <td>23</td>\n",
       "    </tr>\n",
       "    <tr>\n",
       "      <th>(40.498957012, -74.244366592)</th>\n",
       "      <td>9</td>\n",
       "      <td>9</td>\n",
       "      <td>9</td>\n",
       "    </tr>\n",
       "    <tr>\n",
       "      <th>(40.499142788, -74.243486342)</th>\n",
       "      <td>3</td>\n",
       "      <td>3</td>\n",
       "      <td>3</td>\n",
       "    </tr>\n",
       "  </tbody>\n",
       "</table>\n",
       "</div>"
      ],
      "text/plain": [
       "                               First_type  Second_type  Data_property\n",
       "Location                                                             \n",
       "(40.498060701, -74.248893743)           1            1              1\n",
       "(40.49876753, -74.240511403)           24           24             24\n",
       "(40.498905363, -74.24153665)           23           23             23\n",
       "(40.498957012, -74.244366592)           9            9              9\n",
       "(40.499142788, -74.243486342)           3            3              3"
      ]
     },
     "execution_count": 198,
     "metadata": {},
     "output_type": "execute_result"
    }
   ],
   "source": [
    "df_Lat_lon.groupby('Location').count().head()"
   ]
  },
  {
   "cell_type": "code",
   "execution_count": 199,
   "metadata": {
    "collapsed": false
   },
   "outputs": [
    {
     "data": {
      "text/html": [
       "<div>\n",
       "<table border=\"1\" class=\"dataframe\">\n",
       "  <thead>\n",
       "    <tr style=\"text-align: right;\">\n",
       "      <th></th>\n",
       "      <th>Location</th>\n",
       "      <th>First_type</th>\n",
       "      <th>Second_type</th>\n",
       "    </tr>\n",
       "    <tr>\n",
       "      <th>Data_property</th>\n",
       "      <th></th>\n",
       "      <th></th>\n",
       "      <th></th>\n",
       "    </tr>\n",
       "  </thead>\n",
       "  <tbody>\n",
       "    <tr>\n",
       "      <th>Null</th>\n",
       "      <td>188146</td>\n",
       "      <td>188146</td>\n",
       "      <td>188146</td>\n",
       "    </tr>\n",
       "    <tr>\n",
       "      <th>Valid</th>\n",
       "      <td>4913085</td>\n",
       "      <td>4913085</td>\n",
       "      <td>4913085</td>\n",
       "    </tr>\n",
       "  </tbody>\n",
       "</table>\n",
       "</div>"
      ],
      "text/plain": [
       "               Location  First_type  Second_type\n",
       "Data_property                                   \n",
       "Null             188146      188146       188146\n",
       "Valid           4913085     4913085      4913085"
      ]
     },
     "execution_count": 199,
     "metadata": {},
     "output_type": "execute_result"
    }
   ],
   "source": [
    "df_Lat_lon.groupby('Data_property').count().head()"
   ]
  },
  {
   "cell_type": "code",
   "execution_count": 253,
   "metadata": {
    "collapsed": false
   },
   "outputs": [
    {
     "name": "stderr",
     "output_type": "stream",
     "text": [
      "/Users/leah/anaconda/lib/python3.5/site-packages/ipykernel/__main__.py:1: FutureWarning: sort(columns=....) is deprecated, use sort_values(by=.....)\n",
      "  if __name__ == '__main__':\n"
     ]
    },
    {
     "data": {
      "text/plain": [
       "<matplotlib.text.Text at 0x13be715f8>"
      ]
     },
     "execution_count": 253,
     "metadata": {},
     "output_type": "execute_result"
    },
    {
     "data": {
      "image/png": "[encoded data removed]",
      "text/plain": [
       "<matplotlib.figure.Figure at 0x1e019fb38>"
      ]
     },
     "metadata": {},
     "output_type": "display_data"
    }
   ],
   "source": [
    "plot_Lat_lon=df_Lat_lon.groupby('Location').count().sort(\"First_type\",ascending=False)\n",
    "ax=plot_Lat_lon.take([0], axis=1)[1:20].plot(kind='bar',legend=False,title='Top 20 Frequency of Latitude+Longitude',color=\"purple\")\n",
    "ax.set_xlabel(\"Latitude+Longitude\")\n",
    "ax.set_ylabel(\"Frequency\")"
   ]
  },
  {
   "cell_type": "code",
   "execution_count": null,
   "metadata": {
    "collapsed": true
   },
   "outputs": [],
   "source": []
  }
 ],
 "metadata": {
  "anaconda-cloud": {},
  "kernelspec": {
   "display_name": "Python [Root]",
   "language": "python",
   "name": "Python [Root]"
  },
  "language_info": {
   "codemirror_mode": {
    "name": "ipython",
    "version": 3
   },
   "file_extension": ".py",
   "mimetype": "text/x-python",
   "name": "python",
   "nbconvert_exporter": "python",
   "pygments_lexer": "ipython3",
   "version": "3.5.2"
  }
 },
 "nbformat": 4,
 "nbformat_minor": 0
}
